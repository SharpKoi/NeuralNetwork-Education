{
 "cells": [
  {
   "cell_type": "code",
   "execution_count": 1,
   "id": "5ef7cef3",
   "metadata": {},
   "outputs": [],
   "source": [
    "import numpy as np\n",
    "from model import Model\n",
    "from layers import Linear, Activation\n",
    "from activator import ReLU, sigmoid\n",
    "from loss import mean_squared_error\n",
    "\n",
    "import matplotlib.pyplot as plt"
   ]
  },
  {
   "cell_type": "code",
   "execution_count": 2,
   "id": "5f5e2e47",
   "metadata": {},
   "outputs": [],
   "source": [
    "def y(x):\n",
    "    return 1-3*x[0]+5*x[0]*x[0]-6*np.cos(10*x[0])\n",
    "\n",
    "n=30\n",
    "X= np.random.rand(n,1)\n",
    "noise = np.random.randn(n)\n",
    "Y= np.array([ [y(X[i])+noise[i]] for i in range(n)])"
   ]
  },
  {
   "cell_type": "code",
   "execution_count": 3,
   "id": "654c3d49",
   "metadata": {},
   "outputs": [],
   "source": [
    "model = Model(loss=mean_squared_error)\n",
    "model.add_layer(Linear(8, input_shape=(X.shape[-1],)))\n",
    "model.add_layer(Activation(sigmoid))\n",
    "model.add_layer(Linear(8))\n",
    "model.add_layer(Activation(sigmoid))\n",
    "model.add_layer(Linear(1))"
   ]
  },
  {
   "cell_type": "code",
   "execution_count": 4,
   "id": "9cc2f8d6",
   "metadata": {},
   "outputs": [
    {
     "data": {
      "text/plain": [
       "Layers\t\tOutput Shape\n",
       "_____________________________\n",
       "Linear_0:\t\t(8,)\n",
       "Activation_1:\t\t(8,)\n",
       "Linear_2:\t\t(8,)\n",
       "Activation_3:\t\t(8,)\n",
       "Linear_4:\t\t(1,)"
      ]
     },
     "execution_count": 4,
     "metadata": {},
     "output_type": "execute_result"
    }
   ],
   "source": [
    "model"
   ]
  },
  {
   "cell_type": "code",
   "execution_count": 5,
   "id": "6d9dabed",
   "metadata": {},
   "outputs": [],
   "source": [
    "# To see the loss of each epoch, please set `verbose=True` to turn on verbose mode\n",
    "model.fit(X, Y, 10000, 0.1, batch_size=30, verbose=False)"
   ]
  },
  {
   "cell_type": "code",
   "execution_count": 6,
   "id": "c8bb204a",
   "metadata": {
    "scrolled": true
   },
   "outputs": [
    {
     "data": {
      "image/png": "[encoded data removed]",
      "text/plain": [
       "<Figure size 432x288 with 1 Axes>"
      ]
     },
     "metadata": {
      "needs_background": "light"
     },
     "output_type": "display_data"
    }
   ],
   "source": [
    "plt.scatter(X, Y, color='r')\n",
    "\n",
    "dx = np.linspace(0,1, 100)\n",
    "h_dx = model.predict(dx.reshape(-1, 1))\n",
    "plt.plot(dx,h_dx,color='green')\n",
    "\n",
    "plt.show()"
   ]
  }
 ],
 "metadata": {
  "kernelspec": {
   "display_name": "Python 3",
   "language": "python",
   "name": "python3"
  },
  "language_info": {
   "codemirror_mode": {
    "name": "ipython",
    "version": 3
   },
   "file_extension": ".py",
   "mimetype": "text/x-python",
   "name": "python",
   "nbconvert_exporter": "python",
   "pygments_lexer": "ipython3",
   "version": "3.8.8"
  }
 },
 "nbformat": 4,
 "nbformat_minor": 5
}
